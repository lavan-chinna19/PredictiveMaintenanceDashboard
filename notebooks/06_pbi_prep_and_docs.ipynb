{
 "cells": [
  {
   "cell_type": "code",
   "execution_count": null,
   "id": "fe0e3b79-e7b9-49da-b988-16fd6e68d7d2",
   "metadata": {},
   "outputs": [],
   "source": [
    "# ============================================\n",
    "# Phase 6: Power BI Prep + Docs\n",
    "# ============================================\n",
    "\n",
    "import pandas as pd\n",
    "from pathlib import Path\n",
    "\n",
    "# Set project root\n",
    "BASE = Path(r\"C:\\Users\\lavan\\OneDrive\\Desktop\\PredictiveMaintenanceProject\")\n",
    "ST   = BASE / \"data\" / \"staging\"\n",
    "\n",
    "# Load cleaned and predictions\n",
    "devices = pd.read_csv(ST / \"hostel_device_inventory_clean.csv\", parse_dates=[\"InstallDate\"])\n",
    "usage   = pd.read_csv(ST / \"hostel_usage_logs_clean.csv\", parse_dates=[\"Date\"])\n",
    "preds   = pd.read_csv(ST / \"predictions_latest.csv\", parse_dates=[\"Date\"])\n",
    "\n",
    "# Dimension: devices\n",
    "dim_device = devices[[\"DeviceID\", \"DeviceType\", \"Location\", \"RoomNo\"]].drop_duplicates()\n",
    "dim_device.to_csv(ST / \"dim_device.csv\", index=False)\n",
    "\n",
    "# Fact: usage logs\n",
    "fact_usage = usage[[\"DeviceID\", \"Date\", \"HoursUsed\", \"Temperature\", \"Vibration\", \"FailureFlag\"]]\n",
    "fact_usage.to_csv(ST / \"fact_usage.csv\", index=False)\n",
    "\n",
    "# Predictions fact\n",
    "preds.to_csv(ST / \"fact_predictions_latest.csv\", index=False)\n",
    "\n",
    "print(\"✅ Dim/Fact tables saved in:\", ST)\n",
    "\n",
    "# ================================\n",
    "# Notes for Power BI (add in Markdown cell)\n",
    "# ================================\n",
    "# 1. Load these 3 CSVs into Power BI:\n",
    "#    - dim_device.csv\n",
    "#    - fact_usage.csv\n",
    "#    - fact_predictions_latest.csv\n",
    "#\n",
    "# 2. Create relationships:\n",
    "#    - fact_usage.DeviceID → dim_device.DeviceID\n",
    "#    - fact_predictions_latest.DeviceID → dim_device.DeviceID\n",
    "#\n",
    "# 3. Suggested visuals:\n",
    "#    - KPI cards: MTBF, MTTR\n",
    "#    - Table: Devices with highest predicted failure probability\n",
    "#    - Line chart: Usage trends vs Failures\n",
    "#    - Heatmap: Failures by Location\n"
   ]
  },
  {
   "cell_type": "code",
   "execution_count": null,
   "id": "fd5d9c23-d6d9-4c52-9a11-cb6496af81b9",
   "metadata": {},
   "outputs": [],
   "source": []
  },
  {
   "cell_type": "code",
   "execution_count": null,
   "id": "fa8bc60e-0304-4364-a548-08233c39b9c3",
   "metadata": {},
   "outputs": [],
   "source": []
  }
 ],
 "metadata": {
  "kernelspec": {
   "display_name": "Python 3 (ipykernel)",
   "language": "python",
   "name": "python3"
  },
  "language_info": {
   "codemirror_mode": {
    "name": "ipython",
    "version": 3
   },
   "file_extension": ".py",
   "mimetype": "text/x-python",
   "name": "python",
   "nbconvert_exporter": "python",
   "pygments_lexer": "ipython3",
   "version": "3.10.18"
  }
 },
 "nbformat": 4,
 "nbformat_minor": 5
}

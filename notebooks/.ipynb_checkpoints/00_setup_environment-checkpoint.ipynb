{
 "cells": [
  {
   "cell_type": "code",
   "execution_count": 2,
   "id": "75b2c16b-2fab-4dd4-876b-34641f5072db",
   "metadata": {},
   "outputs": [
    {
     "name": "stdout",
     "output_type": "stream",
     "text": [
      "Python: 3.10.18 | packaged by Anaconda, Inc. | (main, Jun  5 2025, 13:08:55) [MSC v.1929 64 bit (AMD64)]\n",
      "Platform: Windows-10-10.0.26100-SP0\n",
      "BASE: C:\\Users\\lavan\\OneDrive\\Desktop\\PredictiveMaintenanceProject\n",
      "RAW exists: True\n",
      "STAGING exists: True\n"
     ]
    }
   ],
   "source": [
    "import sys, platform\n",
    "from pathlib import Path\n",
    "print(\"Python:\", sys.version)\n",
    "print(\"Platform:\", platform.platform())\n",
    "\n",
    "BASE = Path(r\"C:\\Users\\lavan\\OneDrive\\Desktop\\PredictiveMaintenanceProject\")\n",
    "                               # should be project root\n",
    "RAW = BASE/'data'/'raw'\n",
    "STAGING = BASE/'data'/'staging'\n",
    "STAGING.mkdir(parents=True, exist_ok=True)\n",
    "print(\"BASE:\", BASE)\n",
    "print(\"RAW exists:\", RAW.exists())\n",
    "print(\"STAGING exists:\", STAGING.exists())\n"
   ]
  },
  {
   "cell_type": "code",
   "execution_count": null,
   "id": "c201c965-7b71-48a7-925d-513225075072",
   "metadata": {},
   "outputs": [],
   "source": []
  }
 ],
 "metadata": {
  "kernelspec": {
   "display_name": "Python 3 (ipykernel)",
   "language": "python",
   "name": "python3"
  },
  "language_info": {
   "codemirror_mode": {
    "name": "ipython",
    "version": 3
   },
   "file_extension": ".py",
   "mimetype": "text/x-python",
   "name": "python",
   "nbconvert_exporter": "python",
   "pygments_lexer": "ipython3",
   "version": "3.10.18"
  }
 },
 "nbformat": 4,
 "nbformat_minor": 5
}

{
 "cells": [
  {
   "cell_type": "code",
   "execution_count": 1,
   "id": "486b12ad-4145-41e7-966e-404cf9cb21e6",
   "metadata": {},
   "outputs": [
    {
     "name": "stdout",
     "output_type": "stream",
     "text": [
      "Classification Report:\n",
      "               precision    recall  f1-score   support\n",
      "\n",
      "           0       0.28      0.26      0.27       109\n",
      "           1       0.69      0.71      0.70       251\n",
      "\n",
      "    accuracy                           0.57       360\n",
      "   macro avg       0.48      0.48      0.48       360\n",
      "weighted avg       0.56      0.57      0.57       360\n",
      "\n",
      "ROC-AUC: 0.45902628020029973\n",
      "✅ Model saved to: C:\\Users\\lavan\\OneDrive\\Desktop\\PredictiveMaintenanceProject\\models\\rf_model.pkl\n"
     ]
    }
   ],
   "source": [
    "# ============================================\n",
    "# Phase 4: Modeling & Evaluation\n",
    "# ============================================\n",
    "\n",
    "import pandas as pd\n",
    "from pathlib import Path\n",
    "from sklearn.ensemble import RandomForestClassifier\n",
    "from sklearn.metrics import classification_report, roc_auc_score\n",
    "import joblib\n",
    "\n",
    "# Set project root\n",
    "BASE = Path(r\"C:\\Users\\lavan\\OneDrive\\Desktop\\PredictiveMaintenanceProject\")\n",
    "ST   = BASE / \"data\" / \"staging\"\n",
    "\n",
    "# Load features\n",
    "feat = pd.read_csv(ST / \"features_for_model.csv\", parse_dates=[\"Date\"])\n",
    "\n",
    "# Features and target\n",
    "X = feat[[\"HoursUsed\", \"Hours_7d_mean\", \"Temperature\", \"Vibration\", \"DaysSinceLastMaint\"]].fillna(0)\n",
    "y = feat[\"label_fail_next7d\"]\n",
    "\n",
    "# Time-based split (last 20% dates = test)\n",
    "cutoff = feat[\"Date\"].quantile(0.8)\n",
    "mask_train = feat[\"Date\"] <= cutoff\n",
    "X_train, y_train = X[mask_train], y[mask_train]\n",
    "X_test, y_test   = X[~mask_train], y[~mask_train]\n",
    "\n",
    "# Train model\n",
    "model = RandomForestClassifier(n_estimators=200, random_state=42)\n",
    "model.fit(X_train, y_train)\n",
    "\n",
    "# Predictions\n",
    "pred = model.predict(X_test)\n",
    "prob = model.predict_proba(X_test)[:, 1]\n",
    "\n",
    "# Metrics\n",
    "print(\"Classification Report:\\n\", classification_report(y_test, pred))\n",
    "print(\"ROC-AUC:\", roc_auc_score(y_test, prob))\n",
    "\n",
    "# Save model\n",
    "MODEL_DIR = BASE / \"models\"\n",
    "MODEL_DIR.mkdir(exist_ok=True)\n",
    "joblib.dump(model, MODEL_DIR / \"rf_model.pkl\")\n",
    "print(\"✅ Model saved to:\", MODEL_DIR / \"rf_model.pkl\")\n"
   ]
  },
  {
   "cell_type": "code",
   "execution_count": null,
   "id": "b7080e7a-5899-4ae5-b85c-6552bb5eb951",
   "metadata": {},
   "outputs": [],
   "source": []
  },
  {
   "cell_type": "code",
   "execution_count": null,
   "id": "4f8bc09a-bd15-4a1f-a937-58fc63bd4e61",
   "metadata": {},
   "outputs": [],
   "source": []
  }
 ],
 "metadata": {
  "kernelspec": {
   "display_name": "Python 3 (ipykernel)",
   "language": "python",
   "name": "python3"
  },
  "language_info": {
   "codemirror_mode": {
    "name": "ipython",
    "version": 3
   },
   "file_extension": ".py",
   "mimetype": "text/x-python",
   "name": "python",
   "nbconvert_exporter": "python",
   "pygments_lexer": "ipython3",
   "version": "3.10.18"
  }
 },
 "nbformat": 4,
 "nbformat_minor": 5
}

{
 "cells": [
  {
   "cell_type": "code",
   "execution_count": 1,
   "id": "233c846f-4d6b-4107-980f-b1889940fb6c",
   "metadata": {},
   "outputs": [
    {
     "name": "stdout",
     "output_type": "stream",
     "text": [
      "✅ Predictions saved to: C:\\Users\\lavan\\OneDrive\\Desktop\\PredictiveMaintenanceProject\\data\\staging\\predictions_latest.csv\n"
     ]
    }
   ],
   "source": [
    "# ============================================\n",
    "# Phase 5: Generate Predictions\n",
    "# ============================================\n",
    "\n",
    "import pandas as pd\n",
    "import joblib\n",
    "from pathlib import Path\n",
    "\n",
    "# Set project root\n",
    "BASE = Path(r\"C:\\Users\\lavan\\OneDrive\\Desktop\\PredictiveMaintenanceProject\")\n",
    "ST   = BASE / \"data\" / \"staging\"\n",
    "\n",
    "# Load model + features\n",
    "model = joblib.load(BASE / \"models\" / \"rf_model.pkl\")\n",
    "feat = pd.read_csv(ST / \"features_for_model.csv\", parse_dates=[\"Date\"])\n",
    "\n",
    "# Predictions\n",
    "X = feat[[\"HoursUsed\", \"Hours_7d_mean\", \"Temperature\", \"Vibration\", \"DaysSinceLastMaint\"]].fillna(0)\n",
    "feat[\"pred_prob\"] = model.predict_proba(X)[:, 1]\n",
    "feat[\"priority\"] = feat[\"pred_prob\"] * (1 + feat[\"DaysSinceLastMaint\"] / 365)\n",
    "\n",
    "# Keep latest row per device\n",
    "latest = feat.sort_values([\"DeviceID\", \"Date\"]).groupby(\"DeviceID\").tail(1)\n",
    "out = latest[[\"DeviceID\", \"Date\", \"pred_prob\", \"priority\"]]\n",
    "\n",
    "# Save predictions\n",
    "out.to_csv(ST / \"predictions_latest.csv\", index=False)\n",
    "print(\"✅ Predictions saved to:\", ST / \"predictions_latest.csv\")\n"
   ]
  },
  {
   "cell_type": "code",
   "execution_count": null,
   "id": "d036e4b2-251e-40f3-8153-dcf813bdf650",
   "metadata": {},
   "outputs": [],
   "source": []
  }
 ],
 "metadata": {
  "kernelspec": {
   "display_name": "Python 3 (ipykernel)",
   "language": "python",
   "name": "python3"
  },
  "language_info": {
   "codemirror_mode": {
    "name": "ipython",
    "version": 3
   },
   "file_extension": ".py",
   "mimetype": "text/x-python",
   "name": "python",
   "nbconvert_exporter": "python",
   "pygments_lexer": "ipython3",
   "version": "3.10.18"
  }
 },
 "nbformat": 4,
 "nbformat_minor": 5
}

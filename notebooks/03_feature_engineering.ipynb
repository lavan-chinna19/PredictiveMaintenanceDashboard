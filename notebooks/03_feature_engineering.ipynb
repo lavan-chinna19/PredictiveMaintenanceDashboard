{
 "cells": [
  {
   "cell_type": "code",
   "execution_count": 1,
   "id": "e94c7c56-280e-47f4-8680-a42349a20f31",
   "metadata": {},
   "outputs": [
    {
     "name": "stdout",
     "output_type": "stream",
     "text": [
      "✅ Features saved to: C:\\Users\\lavan\\OneDrive\\Desktop\\PredictiveMaintenanceProject\\data\\staging\\features_for_model.csv\n"
     ]
    }
   ],
   "source": [
    "# ============================================\n",
    "# Phase 3: Feature Engineering\n",
    "# ============================================\n",
    "\n",
    "import pandas as pd\n",
    "from pathlib import Path\n",
    "\n",
    "# Set project root\n",
    "BASE = Path(r\"C:\\Users\\lavan\\OneDrive\\Desktop\\PredictiveMaintenanceProject\")\n",
    "ST   = BASE / \"data\" / \"staging\"\n",
    "\n",
    "# Load cleaned data\n",
    "usage = pd.read_csv(ST / \"hostel_usage_logs_clean.csv\", parse_dates=[\"Date\"])\n",
    "maint = pd.read_csv(ST / \"hostel_maintenance_logs_clean.csv\", parse_dates=[\"Date\"])\n",
    "\n",
    "# Sort by DeviceID and Date\n",
    "usage = usage.sort_values([\"DeviceID\", \"Date\"])\n",
    "\n",
    "# Rolling 7-day mean usage hours\n",
    "usage[\"Hours_7d_mean\"] = usage.groupby(\"DeviceID\")[\"HoursUsed\"] \\\n",
    "                              .transform(lambda s: s.rolling(7, min_periods=1).mean())\n",
    "\n",
    "# Days since last maintenance\n",
    "last_maint = maint.groupby(\"DeviceID\")[\"Date\"].max().rename(\"LastMaintDate\").reset_index()\n",
    "usage = usage.merge(last_maint, on=\"DeviceID\", how=\"left\")\n",
    "usage[\"DaysSinceLastMaint\"] = (usage[\"Date\"] - pd.to_datetime(usage[\"LastMaintDate\"])) \\\n",
    "                                .dt.days.fillna(9999).astype(int)\n",
    "\n",
    "# Label: failure in next 7 days\n",
    "usage = usage.sort_values([\"DeviceID\", \"Date\"])\n",
    "usage[\"future_fail_7d\"] = usage.groupby(\"DeviceID\")[\"FailureFlag\"] \\\n",
    "                               .transform(lambda s: s[::-1].rolling(7, min_periods=1).sum()[::-1])\n",
    "usage[\"label_fail_next7d\"] = (usage[\"future_fail_7d\"] > 0).astype(int)\n",
    "\n",
    "# Final feature set\n",
    "feat = usage[[\n",
    "    \"DeviceID\", \"Date\", \"HoursUsed\", \"Hours_7d_mean\",\n",
    "    \"Temperature\", \"Vibration\", \"DaysSinceLastMaint\",\n",
    "    \"label_fail_next7d\"\n",
    "]]\n",
    "\n",
    "# Save\n",
    "feat.to_csv(ST / \"features_for_model.csv\", index=False)\n",
    "print(\"✅ Features saved to:\", ST / \"features_for_model.csv\")\n"
   ]
  },
  {
   "cell_type": "code",
   "execution_count": null,
   "id": "4c2b2b5c-2a3d-4443-8317-cf791a601579",
   "metadata": {},
   "outputs": [],
   "source": []
  }
 ],
 "metadata": {
  "kernelspec": {
   "display_name": "Python 3 (ipykernel)",
   "language": "python",
   "name": "python3"
  },
  "language_info": {
   "codemirror_mode": {
    "name": "ipython",
    "version": 3
   },
   "file_extension": ".py",
   "mimetype": "text/x-python",
   "name": "python",
   "nbconvert_exporter": "python",
   "pygments_lexer": "ipython3",
   "version": "3.10.18"
  }
 },
 "nbformat": 4,
 "nbformat_minor": 5
}

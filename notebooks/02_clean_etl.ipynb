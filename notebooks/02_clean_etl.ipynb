{
 "cells": [
  {
   "cell_type": "code",
   "execution_count": 1,
   "id": "75574d71-9ccf-4ff5-8e99-0b9f91650d84",
   "metadata": {},
   "outputs": [
    {
     "name": "stdout",
     "output_type": "stream",
     "text": [
      "✅ Cleaned files saved to: C:\\Users\\lavan\\OneDrive\\Desktop\\PredictiveMaintenanceProject\\data\\staging\n"
     ]
    }
   ],
   "source": [
    "# ============================================\n",
    "# Phase 2: Clean + ETL\n",
    "# ============================================\n",
    "\n",
    "import pandas as pd\n",
    "from pathlib import Path\n",
    "\n",
    "# Always force BASE to project root (not notebooks/)\n",
    "BASE = Path(r\"C:\\Users\\lavan\\OneDrive\\Desktop\\PredictiveMaintenanceProject\")\n",
    "\n",
    "RAW = BASE / \"data\" / \"raw\"\n",
    "ST  = BASE / \"data\" / \"staging\"\n",
    "\n",
    "# Load raw CSVs\n",
    "devices = pd.read_csv(RAW / \"hostel_device_inventory_small.csv\", parse_dates=[\"InstallDate\"])\n",
    "usage   = pd.read_csv(RAW / \"hostel_usage_logs_small.csv\", parse_dates=[\"Date\"])\n",
    "maint   = pd.read_csv(RAW / \"hostel_maintenance_logs_small.csv\", parse_dates=[\"Date\"])\n",
    "\n",
    "# -----------------------------\n",
    "# Cleaning and standardization\n",
    "# -----------------------------\n",
    "\n",
    "# Standardize DeviceID types\n",
    "for df in (devices, usage, maint):\n",
    "    df[\"DeviceID\"] = df[\"DeviceID\"].astype(int)\n",
    "\n",
    "# Ensure FailureFlag is integer (fill missing with 0)\n",
    "usage[\"FailureFlag\"] = usage[\"FailureFlag\"].fillna(0).astype(int)\n",
    "\n",
    "# Drop duplicate rows\n",
    "usage = usage.drop_duplicates()\n",
    "maint = maint.drop_duplicates()\n",
    "\n",
    "# Ensure all DeviceIDs in usage exist in devices\n",
    "missing = set(usage[\"DeviceID\"]) - set(devices[\"DeviceID\"])\n",
    "if missing:\n",
    "    extra = pd.DataFrame({\n",
    "        \"DeviceID\": list(missing),\n",
    "        \"DeviceType\": \"Unknown\",\n",
    "        \"Location\": \"Unknown\",\n",
    "        \"RoomNo\": \"Unknown\",\n",
    "        \"InstallDate\": pd.NaT\n",
    "    })\n",
    "    devices = pd.concat([devices, extra], ignore_index=True)\n",
    "\n",
    "# -----------------------------\n",
    "# Save cleaned versions to staging\n",
    "# -----------------------------\n",
    "devices.to_csv(ST / \"hostel_device_inventory_clean.csv\", index=False)\n",
    "usage.to_csv(ST / \"hostel_usage_logs_clean.csv\", index=False)\n",
    "maint.to_csv(ST / \"hostel_maintenance_logs_clean.csv\", index=False)\n",
    "\n",
    "print(\"✅ Cleaned files saved to:\", ST)\n"
   ]
  },
  {
   "cell_type": "code",
   "execution_count": null,
   "id": "613003ba-e91b-4cab-afd9-b7b744cda609",
   "metadata": {},
   "outputs": [],
   "source": []
  }
 ],
 "metadata": {
  "kernelspec": {
   "display_name": "Python 3 (ipykernel)",
   "language": "python",
   "name": "python3"
  },
  "language_info": {
   "codemirror_mode": {
    "name": "ipython",
    "version": 3
   },
   "file_extension": ".py",
   "mimetype": "text/x-python",
   "name": "python",
   "nbconvert_exporter": "python",
   "pygments_lexer": "ipython3",
   "version": "3.10.18"
  }
 },
 "nbformat": 4,
 "nbformat_minor": 5
}
